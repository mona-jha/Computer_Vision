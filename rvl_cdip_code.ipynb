{
  "metadata": {
    "kernelspec": {
      "language": "python",
      "display_name": "Python 3",
      "name": "python3"
    },
    "language_info": {
      "name": "python",
      "version": "3.10.14",
      "mimetype": "text/x-python",
      "codemirror_mode": {
        "name": "ipython",
        "version": 3
      },
      "pygments_lexer": "ipython3",
      "nbconvert_exporter": "python",
      "file_extension": ".py"
    },
    "kaggle": {
      "accelerator": "nvidiaTeslaT4",
      "dataSources": [
        {
          "sourceId": 813142,
          "sourceType": "datasetVersion",
          "datasetId": 427174
        }
      ],
      "isInternetEnabled": true,
      "language": "python",
      "sourceType": "notebook",
      "isGpuEnabled": true
    },
    "colab": {
      "provenance": [],
      "include_colab_link": true
    }
  },
  "nbformat_minor": 0,
  "nbformat": 4,
  "cells": [
    {
      "cell_type": "markdown",
      "metadata": {
        "id": "view-in-github",
        "colab_type": "text"
      },
      "source": [
        "<a href=\"https://colab.research.google.com/github/mona-jha/Computer_Vision/blob/main/rvl_cdip_code.ipynb\" target=\"_parent\"><img src=\"https://colab.research.google.com/assets/colab-badge.svg\" alt=\"Open In Colab\"/></a>"
      ]
    },
    {
      "cell_type": "code",
      "source": [
        "# This Python 3 environment comes with many helpful analytics libraries installed\n",
        "# It is defined by the kaggle/python Docker image: https://github.com/kaggle/docker-python\n",
        "# For example, here's several helpful packages to load\n",
        "\n",
        "import numpy as np # linear algebra\n",
        "import pandas as pd # data processing, CSV file I/O (e.g. pd.read_csv)\n",
        "\n",
        "# Input data files are available in the read-only \"../input/\" directory\n",
        "# For example, running this (by clicking run or pressing Shift+Enter) will list all files under the input directory\n",
        "\n",
        "import os\n",
        "for dirname, _, filenames in os.walk('/kaggle/input'):\n",
        "    for filename in filenames:\n",
        "        print(os.path.join(dirname, filename))\n",
        "\n",
        "# You can write up to 20GB to the current directory (/kaggle/working/) that gets preserved as output when you create a version using \"Save & Run All\"\n",
        "# You can also write temporary files to /kaggle/temp/, but they won't be saved outside of the current session"
      ],
      "metadata": {
        "_uuid": "8f2839f25d086af736a60e9eeb907d3b93b6e0e5",
        "_cell_guid": "b1076dfc-b9ad-4769-8c92-a6c4dae69d19",
        "trusted": true,
        "id": "Hn1sKp4gcIg2"
      },
      "execution_count": null,
      "outputs": []
    },
    {
      "cell_type": "code",
      "source": [
        "import os\n",
        "import numpy as np\n",
        "import pandas as pd\n",
        "import random as rn\n",
        "\n",
        "import tensorflow as tf\n",
        "import keras\n",
        "\n",
        "from tensorflow.keras.applications.vgg16 import VGG16,preprocess_input\n",
        "from tensorflow.keras.models import Sequential\n",
        "\n",
        "from tensorflow.keras.models import Model, load_model,Sequential\n",
        "from tensorflow.keras.layers import Input, Dense,Conv2D,MaxPool2D,Activation,Flatten\n",
        "from tensorflow.keras.callbacks import ModelCheckpoint, TensorBoard\n",
        "from tensorflow.keras import regularizers"
      ],
      "metadata": {
        "execution": {
          "iopub.status.busy": "2024-08-25T13:10:59.208629Z",
          "iopub.execute_input": "2024-08-25T13:10:59.209028Z",
          "iopub.status.idle": "2024-08-25T13:11:11.463426Z",
          "shell.execute_reply.started": "2024-08-25T13:10:59.208989Z",
          "shell.execute_reply": "2024-08-25T13:11:11.462363Z"
        },
        "trusted": true,
        "id": "bGje3d1RcIg4"
      },
      "execution_count": null,
      "outputs": []
    },
    {
      "cell_type": "code",
      "source": [
        "dir_path = '/kaggle/input/rvlcdip/'\n",
        "os.listdir(dir_path)"
      ],
      "metadata": {
        "execution": {
          "iopub.status.busy": "2024-08-25T13:13:24.978946Z",
          "iopub.execute_input": "2024-08-25T13:13:24.979343Z",
          "iopub.status.idle": "2024-08-25T13:13:24.990724Z",
          "shell.execute_reply.started": "2024-08-25T13:13:24.979305Z",
          "shell.execute_reply": "2024-08-25T13:13:24.989716Z"
        },
        "trusted": true,
        "id": "IG6UzLRocIg4",
        "outputId": "26c90b8b-17c2-41ee-9dbf-87544276674e"
      },
      "execution_count": null,
      "outputs": [
        {
          "execution_count": 2,
          "output_type": "execute_result",
          "data": {
            "text/plain": "['labels_final.csv', 'data_final']"
          },
          "metadata": {}
        }
      ]
    },
    {
      "cell_type": "code",
      "source": [
        "traindf = pd.read_csv('/kaggle/input/rvlcdip/labels_final.csv')\n",
        "traindf.head()"
      ],
      "metadata": {
        "execution": {
          "iopub.status.busy": "2024-08-25T13:14:25.732463Z",
          "iopub.execute_input": "2024-08-25T13:14:25.733307Z",
          "iopub.status.idle": "2024-08-25T13:14:25.849555Z",
          "shell.execute_reply.started": "2024-08-25T13:14:25.733269Z",
          "shell.execute_reply": "2024-08-25T13:14:25.848429Z"
        },
        "trusted": true,
        "id": "7931aIGqcIg5",
        "outputId": "45431c37-d25d-4083-d2b7-72ac77d86980"
      },
      "execution_count": null,
      "outputs": [
        {
          "execution_count": 3,
          "output_type": "execute_result",
          "data": {
            "text/plain": "                                         path  label\n0  imagesv/v/o/h/voh71d00/509132755+-2755.tif      3\n1        imagesl/l/x/t/lxt19d00/502213303.tif      3\n2       imagesx/x/e/d/xed05a00/2075325674.tif      2\n3  imageso/o/j/b/ojb60d00/517511301+-1301.tif      3\n4       imagesq/q/z/k/qzk17e00/2031320195.tif      7",
            "text/html": "<div>\n<style scoped>\n    .dataframe tbody tr th:only-of-type {\n        vertical-align: middle;\n    }\n\n    .dataframe tbody tr th {\n        vertical-align: top;\n    }\n\n    .dataframe thead th {\n        text-align: right;\n    }\n</style>\n<table border=\"1\" class=\"dataframe\">\n  <thead>\n    <tr style=\"text-align: right;\">\n      <th></th>\n      <th>path</th>\n      <th>label</th>\n    </tr>\n  </thead>\n  <tbody>\n    <tr>\n      <th>0</th>\n      <td>imagesv/v/o/h/voh71d00/509132755+-2755.tif</td>\n      <td>3</td>\n    </tr>\n    <tr>\n      <th>1</th>\n      <td>imagesl/l/x/t/lxt19d00/502213303.tif</td>\n      <td>3</td>\n    </tr>\n    <tr>\n      <th>2</th>\n      <td>imagesx/x/e/d/xed05a00/2075325674.tif</td>\n      <td>2</td>\n    </tr>\n    <tr>\n      <th>3</th>\n      <td>imageso/o/j/b/ojb60d00/517511301+-1301.tif</td>\n      <td>3</td>\n    </tr>\n    <tr>\n      <th>4</th>\n      <td>imagesq/q/z/k/qzk17e00/2031320195.tif</td>\n      <td>7</td>\n    </tr>\n  </tbody>\n</table>\n</div>"
          },
          "metadata": {}
        }
      ]
    },
    {
      "cell_type": "code",
      "source": [
        "traindf['path'].head()"
      ],
      "metadata": {
        "execution": {
          "iopub.status.busy": "2024-08-25T13:15:13.248945Z",
          "iopub.execute_input": "2024-08-25T13:15:13.249367Z",
          "iopub.status.idle": "2024-08-25T13:15:13.257502Z",
          "shell.execute_reply.started": "2024-08-25T13:15:13.249327Z",
          "shell.execute_reply": "2024-08-25T13:15:13.256406Z"
        },
        "trusted": true,
        "id": "07qP1CcHcIg5",
        "outputId": "9d30f83a-e139-4dfe-8692-ea9ae6bc4b50"
      },
      "execution_count": null,
      "outputs": [
        {
          "execution_count": 4,
          "output_type": "execute_result",
          "data": {
            "text/plain": "0    imagesv/v/o/h/voh71d00/509132755+-2755.tif\n1          imagesl/l/x/t/lxt19d00/502213303.tif\n2         imagesx/x/e/d/xed05a00/2075325674.tif\n3    imageso/o/j/b/ojb60d00/517511301+-1301.tif\n4         imagesq/q/z/k/qzk17e00/2031320195.tif\nName: path, dtype: object"
          },
          "metadata": {}
        }
      ]
    },
    {
      "cell_type": "code",
      "source": [
        "print(image.shape)"
      ],
      "metadata": {
        "execution": {
          "iopub.status.busy": "2024-08-25T13:33:28.260392Z",
          "iopub.execute_input": "2024-08-25T13:33:28.260880Z",
          "iopub.status.idle": "2024-08-25T13:33:28.572816Z",
          "shell.execute_reply.started": "2024-08-25T13:33:28.260828Z",
          "shell.execute_reply": "2024-08-25T13:33:28.571587Z"
        },
        "trusted": true,
        "id": "8Y0o9HL9cIg6",
        "outputId": "e06ee288-e703-4119-d8f5-5127d4d91146"
      },
      "execution_count": null,
      "outputs": [
        {
          "traceback": [
            "\u001b[0;31m---------------------------------------------------------------------------\u001b[0m",
            "\u001b[0;31mAttributeError\u001b[0m                            Traceback (most recent call last)",
            "Cell \u001b[0;32mIn[19], line 1\u001b[0m\n\u001b[0;32m----> 1\u001b[0m \u001b[38;5;28mprint\u001b[39m(\u001b[43mimage\u001b[49m\u001b[38;5;241;43m.\u001b[39;49m\u001b[43mshape\u001b[49m)\n",
            "File \u001b[0;32m/opt/conda/lib/python3.10/site-packages/PIL/Image.py:528\u001b[0m, in \u001b[0;36mImage.__getattr__\u001b[0;34m(self, name)\u001b[0m\n\u001b[1;32m    526\u001b[0m     deprecate(\u001b[38;5;124m\"\u001b[39m\u001b[38;5;124mImage categories\u001b[39m\u001b[38;5;124m\"\u001b[39m, \u001b[38;5;241m10\u001b[39m, \u001b[38;5;124m\"\u001b[39m\u001b[38;5;124mis_animated\u001b[39m\u001b[38;5;124m\"\u001b[39m, plural\u001b[38;5;241m=\u001b[39m\u001b[38;5;28;01mTrue\u001b[39;00m)\n\u001b[1;32m    527\u001b[0m     \u001b[38;5;28;01mreturn\u001b[39;00m \u001b[38;5;28mself\u001b[39m\u001b[38;5;241m.\u001b[39m_category\n\u001b[0;32m--> 528\u001b[0m \u001b[38;5;28;01mraise\u001b[39;00m \u001b[38;5;167;01mAttributeError\u001b[39;00m(name)\n",
            "\u001b[0;31mAttributeError\u001b[0m: shape"
          ],
          "ename": "AttributeError",
          "evalue": "shape",
          "output_type": "error"
        }
      ]
    },
    {
      "cell_type": "code",
      "source": [
        "imarray = np.array(image)\n",
        "print(imarray.shape)"
      ],
      "metadata": {
        "execution": {
          "iopub.status.busy": "2024-08-25T13:34:12.191727Z",
          "iopub.execute_input": "2024-08-25T13:34:12.192634Z",
          "iopub.status.idle": "2024-08-25T13:34:12.198265Z",
          "shell.execute_reply.started": "2024-08-25T13:34:12.192591Z",
          "shell.execute_reply": "2024-08-25T13:34:12.197257Z"
        },
        "trusted": true,
        "id": "iOTvyW-WcIg6",
        "outputId": "85c754a9-eac9-499c-adfe-644c1d024443"
      },
      "execution_count": null,
      "outputs": [
        {
          "name": "stdout",
          "text": "(1000, 754)\n",
          "output_type": "stream"
        }
      ]
    },
    {
      "cell_type": "code",
      "source": [
        "image = '/content/dogs_vs_cats/train/dogs/dog.1000.jpg'\n",
        "\n",
        "import cv2\n",
        "\n",
        "img = cv2.imread(image_path)\n",
        "\n",
        "# If the image is loaded successfully, print its pixel values\n",
        "if img is not None:\n",
        "    print(img)\n",
        "    print(img.shape)\n",
        "else:\n",
        "    print(\"The image could not be loaded. Please check the path and file permissions.\")"
      ],
      "metadata": {
        "execution": {
          "iopub.status.busy": "2024-08-25T13:52:42.623335Z",
          "iopub.execute_input": "2024-08-25T13:52:42.623897Z",
          "iopub.status.idle": "2024-08-25T13:52:42.851686Z",
          "shell.execute_reply.started": "2024-08-25T13:52:42.623855Z",
          "shell.execute_reply": "2024-08-25T13:52:42.850646Z"
        },
        "trusted": true,
        "id": "RvsbYK8wcIg6",
        "outputId": "f84fa0d6-dcb7-42fc-cd8c-24f7b8c4a293"
      },
      "execution_count": null,
      "outputs": [
        {
          "name": "stdout",
          "text": "[[[  0   0   0]\n  [  0   0   0]\n  [  0   0   0]\n  ...\n  [255 255 255]\n  [255 255 255]\n  [255 255 255]]\n\n [[  0   0   0]\n  [  0   0   0]\n  [  0   0   0]\n  ...\n  [255 255 255]\n  [255 255 255]\n  [255 255 255]]\n\n [[  0   0   0]\n  [  0   0   0]\n  [  0   0   0]\n  ...\n  [255 255 255]\n  [255 255 255]\n  [255 255 255]]\n\n ...\n\n [[  0   0   0]\n  [  0   0   0]\n  [  0   0   0]\n  ...\n  [255 255 255]\n  [255 255 255]\n  [255 255 255]]\n\n [[  0   0   0]\n  [  0   0   0]\n  [  0   0   0]\n  ...\n  [255 255 255]\n  [255 255 255]\n  [255 255 255]]\n\n [[  0   0   0]\n  [  0   0   0]\n  [  0   0   0]\n  ...\n  [255 255 255]\n  [255 255 255]\n  [255 255 255]]]\n(1000, 754, 3)\n",
          "output_type": "stream"
        }
      ]
    },
    {
      "cell_type": "code",
      "source": [
        "from PIL import Image\n",
        "import matplotlib.pyplot as plt\n",
        "\n",
        "# Load and display a .tif image\n",
        "image_path = '/kaggle/input/rvlcdip/data_final/imagesv/v/o/h/voh71d00/509132755+-2755.tif'\n",
        "image = Image.open(image_path)\n",
        "\n",
        "plt.imshow(image)\n",
        "plt.axis('off')  # Turn off axis labels\n",
        "plt.show()"
      ],
      "metadata": {
        "execution": {
          "iopub.status.busy": "2024-08-25T13:17:43.349313Z",
          "iopub.execute_input": "2024-08-25T13:17:43.350025Z",
          "iopub.status.idle": "2024-08-25T13:17:43.560184Z",
          "shell.execute_reply.started": "2024-08-25T13:17:43.349979Z",
          "shell.execute_reply": "2024-08-25T13:17:43.559248Z"
        },
        "trusted": true,
        "id": "ssbDKPkFcIg7",
        "outputId": "1e6f9ae2-861a-44e9-ef80-b5e53c2e00d7"
      },
      "execution_count": null,
      "outputs": [
        {
          "output_type": "display_data",
          "data": {
            "text/plain": "<Figure size 640x480 with 1 Axes>",
            "image/png": "[encoded data removed]"
          },
          "metadata": {}
        }
      ]
    },
    {
      "cell_type": "code",
      "source": [
        "traindf['label'].value_counts()"
      ],
      "metadata": {
        "execution": {
          "iopub.status.busy": "2024-08-25T13:18:19.907746Z",
          "iopub.execute_input": "2024-08-25T13:18:19.908149Z",
          "iopub.status.idle": "2024-08-25T13:18:19.926736Z",
          "shell.execute_reply.started": "2024-08-25T13:18:19.908108Z",
          "shell.execute_reply": "2024-08-25T13:18:19.925678Z"
        },
        "trusted": true,
        "id": "zrCBbd1KcIg7",
        "outputId": "7cb4aff9-0e8e-4d6b-caa3-788346318f69"
      },
      "execution_count": null,
      "outputs": [
        {
          "execution_count": 6,
          "output_type": "execute_result",
          "data": {
            "text/plain": "label\n0     3016\n13    3007\n14    3006\n12    3006\n3     3005\n8     3003\n9     3002\n10    3002\n7     3000\n5     2999\n15    2996\n1     2994\n4     2994\n2     2993\n11    2992\n6     2985\nName: count, dtype: int64"
          },
          "metadata": {}
        }
      ]
    },
    {
      "cell_type": "code",
      "source": [
        "datagen = tf.keras.preprocessing.image.ImageDataGenerator(\n",
        "                                                            rescale = 1./255,\n",
        "                                                            rotation_range = 10,\n",
        "                                                            width_shift_range = 0.1,\n",
        "                                                            height_shift_range = 0.1,\n",
        "                                                            shear_range = 0.1,\n",
        "                                                            zoom_range = 0.1,\n",
        "                                                            horizontal_flip = True,\n",
        "                                                            validation_split = 0.2)"
      ],
      "metadata": {
        "execution": {
          "iopub.status.busy": "2024-08-25T13:26:35.091187Z",
          "iopub.execute_input": "2024-08-25T13:26:35.091578Z",
          "iopub.status.idle": "2024-08-25T13:26:35.096728Z",
          "shell.execute_reply.started": "2024-08-25T13:26:35.091541Z",
          "shell.execute_reply": "2024-08-25T13:26:35.095833Z"
        },
        "trusted": true,
        "id": "XYSQUCxhcIg7"
      },
      "execution_count": null,
      "outputs": []
    },
    {
      "cell_type": "code",
      "source": [
        "train_generator = datagen.flow_from_dataframe(dataframe= traindf,\n",
        "                                              directory='/kaggle/input/rvlcdip/data_final/',\n",
        "                                              x_col = 'path',\n",
        "                                              y_col = 'label',\n",
        "                                              subset = 'training',\n",
        "                                              batch_size=100,\n",
        "                                              seed=42,\n",
        "                                              shuffle=True,\n",
        "                                              class_mode=\"raw\",\n",
        "                                              target_size=(224,224))"
      ],
      "metadata": {
        "execution": {
          "iopub.status.busy": "2024-08-25T13:26:36.608043Z",
          "iopub.execute_input": "2024-08-25T13:26:36.608707Z",
          "iopub.status.idle": "2024-08-25T13:31:24.853794Z",
          "shell.execute_reply.started": "2024-08-25T13:26:36.608652Z",
          "shell.execute_reply": "2024-08-25T13:31:24.852769Z"
        },
        "trusted": true,
        "id": "Z9IzAI1QcIg8",
        "outputId": "d50832d1-624c-4c78-f9d6-2af90d7a594a"
      },
      "execution_count": null,
      "outputs": [
        {
          "name": "stdout",
          "text": "Found 38400 validated image filenames.\n",
          "output_type": "stream"
        }
      ]
    },
    {
      "cell_type": "markdown",
      "source": [
        "# While passing the data to traininf, it will do data aug\n",
        "# It laoded the augemented images during the batch."
      ],
      "metadata": {
        "id": "DP9PqSvLcIg8"
      }
    },
    {
      "cell_type": "code",
      "source": [
        "images, labels = next(train_generator)\n",
        "print(len(images), len(labels))"
      ],
      "metadata": {
        "execution": {
          "iopub.status.busy": "2024-08-25T13:37:33.380631Z",
          "iopub.execute_input": "2024-08-25T13:37:33.381856Z",
          "iopub.status.idle": "2024-08-25T13:37:35.803489Z",
          "shell.execute_reply.started": "2024-08-25T13:37:33.381788Z",
          "shell.execute_reply": "2024-08-25T13:37:35.802568Z"
        },
        "trusted": true,
        "id": "Ga6nQ2DZcIg9",
        "outputId": "e8af4480-6f35-4d11-8d87-aeb8ed340c51"
      },
      "execution_count": null,
      "outputs": [
        {
          "name": "stdout",
          "text": "100 100\n",
          "output_type": "stream"
        }
      ]
    },
    {
      "cell_type": "code",
      "source": [
        "print(labels)"
      ],
      "metadata": {
        "execution": {
          "iopub.status.busy": "2024-08-25T13:37:53.114938Z",
          "iopub.execute_input": "2024-08-25T13:37:53.115325Z",
          "iopub.status.idle": "2024-08-25T13:37:53.121689Z",
          "shell.execute_reply.started": "2024-08-25T13:37:53.115289Z",
          "shell.execute_reply": "2024-08-25T13:37:53.120433Z"
        },
        "trusted": true,
        "id": "fKSkbxDDcIg9",
        "outputId": "bab127ff-7b43-4f88-9cac-9321f251cd71"
      },
      "execution_count": null,
      "outputs": [
        {
          "name": "stdout",
          "text": "[11  5  4  0  0 14  0  3 11 12 11 14  2  2  6  2  0  1  4 10  7  2  4  5\n  9  2 12 10  1  4 11 10 14  8  8  7  7  8 10  6 10 10  2  7 13  7  1  5\n 14  9  4  4  8 11 15  4  7  4  0  4  8  9  8 11  0  3  3 10 12  3 14 12\n 14  0 13 11  8 14  0  1  6  7 14 10 14  2  9  9 10  2  4 15  6 15  5  2\n  5 14  8  9]\n",
          "output_type": "stream"
        }
      ]
    },
    {
      "cell_type": "code",
      "source": [
        "# Accessing class labels for the training data\n",
        "train_class_labels = train_generator.class_indices\n",
        "print(\"Training class labels:\", train_class_labels)\n"
      ],
      "metadata": {
        "execution": {
          "iopub.status.busy": "2024-08-25T13:36:56.998378Z",
          "iopub.execute_input": "2024-08-25T13:36:56.998770Z",
          "iopub.status.idle": "2024-08-25T13:36:57.033088Z",
          "shell.execute_reply.started": "2024-08-25T13:36:56.998734Z",
          "shell.execute_reply": "2024-08-25T13:36:57.031695Z"
        },
        "trusted": true,
        "id": "mv6DDrmjcIg-",
        "outputId": "87527723-3ec9-4369-d16c-20860d8bb17e"
      },
      "execution_count": null,
      "outputs": [
        {
          "traceback": [
            "\u001b[0;31m---------------------------------------------------------------------------\u001b[0m",
            "\u001b[0;31mAttributeError\u001b[0m                            Traceback (most recent call last)",
            "Cell \u001b[0;32mIn[26], line 2\u001b[0m\n\u001b[1;32m      1\u001b[0m \u001b[38;5;66;03m# Accessing class labels for the training data\u001b[39;00m\n\u001b[0;32m----> 2\u001b[0m train_class_labels \u001b[38;5;241m=\u001b[39m \u001b[43mtrain_generator\u001b[49m\u001b[38;5;241;43m.\u001b[39;49m\u001b[43mclass_indices\u001b[49m\n\u001b[1;32m      3\u001b[0m \u001b[38;5;28mprint\u001b[39m(\u001b[38;5;124m\"\u001b[39m\u001b[38;5;124mTraining class labels:\u001b[39m\u001b[38;5;124m\"\u001b[39m, train_class_labels)\n",
            "\u001b[0;31mAttributeError\u001b[0m: 'DataFrameIterator' object has no attribute 'class_indices'"
          ],
          "ename": "AttributeError",
          "evalue": "'DataFrameIterator' object has no attribute 'class_indices'",
          "output_type": "error"
        }
      ]
    },
    {
      "cell_type": "code",
      "source": [
        "valid_generator = datagen.flow_from_dataframe(dataframe= traindf,\n",
        "                                              directory='/kaggle/input/rvlcdip/data_final/',\n",
        "                                              x_col = 'path',\n",
        "                                              y_col = 'label',\n",
        "                                              subset = 'validation',\n",
        "                                              batch_size=100,\n",
        "                                              seed=42,\n",
        "                                              shuffle=True,\n",
        "                                              class_mode=\"raw\",\n",
        "                                              target_size=(224,224))"
      ],
      "metadata": {
        "execution": {
          "iopub.status.busy": "2024-08-25T13:31:24.855411Z",
          "iopub.execute_input": "2024-08-25T13:31:24.855719Z",
          "iopub.status.idle": "2024-08-25T13:32:16.228718Z",
          "shell.execute_reply.started": "2024-08-25T13:31:24.855686Z",
          "shell.execute_reply": "2024-08-25T13:32:16.227796Z"
        },
        "trusted": true,
        "id": "eaO9_cXAcIg-",
        "outputId": "1a3d0498-3c8f-4ed1-ff11-998742cc194e"
      },
      "execution_count": null,
      "outputs": [
        {
          "name": "stdout",
          "text": "Found 9600 validated image filenames.\n",
          "output_type": "stream"
        }
      ]
    },
    {
      "cell_type": "markdown",
      "source": [
        "# Custom CNN Model from Scratch"
      ],
      "metadata": {
        "id": "G3fEoyJmcIg-"
      }
    },
    {
      "cell_type": "code",
      "source": [
        "from tensorflow.keras.models import Sequential\n",
        "from tensorflow.keras.layers import Conv2D, MaxPooling2D, Flatten, Dense, Dropout\n",
        "\n",
        "model = Sequential([\n",
        "    Conv2D(32, (3,3), activation = 'relu', input_shape=(224, 224,3)),\n",
        "    MaxPooling2D(pool_size=(2,2)),\n",
        "\n",
        "    Conv2D(64, (3,3), activation = 'relu'),\n",
        "    MaxPooling2D(pool_size=(2,2)),\n",
        "\n",
        "    Conv2D(128, (3,3), activation = 'relu'),\n",
        "    MaxPooling2D(pool_size=(2,2)),\n",
        "\n",
        "    Flatten(),\n",
        "    Dense(128, activation = 'relu'),\n",
        "    Dense(64, activation = 'relu'),\n",
        "    Dense(16, activation = 'softmax'), # 16 classes probability of all 16 classes.\n",
        "])\n"
      ],
      "metadata": {
        "execution": {
          "iopub.status.busy": "2024-08-25T13:53:32.489495Z",
          "iopub.execute_input": "2024-08-25T13:53:32.490387Z",
          "iopub.status.idle": "2024-08-25T13:53:32.546762Z",
          "shell.execute_reply.started": "2024-08-25T13:53:32.490345Z",
          "shell.execute_reply": "2024-08-25T13:53:32.545958Z"
        },
        "trusted": true,
        "id": "wjT62K2tcIg-"
      },
      "execution_count": null,
      "outputs": []
    },
    {
      "cell_type": "code",
      "source": [
        "model.summary()"
      ],
      "metadata": {
        "execution": {
          "iopub.status.busy": "2024-08-25T13:53:33.981075Z",
          "iopub.execute_input": "2024-08-25T13:53:33.981438Z",
          "iopub.status.idle": "2024-08-25T13:53:34.006663Z",
          "shell.execute_reply.started": "2024-08-25T13:53:33.981405Z",
          "shell.execute_reply": "2024-08-25T13:53:34.005772Z"
        },
        "trusted": true,
        "id": "wtgQiGxRcIg-",
        "outputId": "3ecb3c43-5828-4c6f-8fbf-0e8db2d5baa4"
      },
      "execution_count": null,
      "outputs": [
        {
          "output_type": "display_data",
          "data": {
            "text/plain": "\u001b[1mModel: \"sequential_3\"\u001b[0m\n",
            "text/html": "<pre style=\"white-space:pre;overflow-x:auto;line-height:normal;font-family:Menlo,'DejaVu Sans Mono',consolas,'Courier New',monospace\"><span style=\"font-weight: bold\">Model: \"sequential_3\"</span>\n</pre>\n"
          },
          "metadata": {}
        },
        {
          "output_type": "display_data",
          "data": {
            "text/plain": "┏━━━━━━━━━━━━━━━━━━━━━━━━━━━━━━━━━┳━━━━━━━━━━━━━━━━━━━━━━━━┳━━━━━━━━━━━━━━━┓\n┃\u001b[1m \u001b[0m\u001b[1mLayer (type)                   \u001b[0m\u001b[1m \u001b[0m┃\u001b[1m \u001b[0m\u001b[1mOutput Shape          \u001b[0m\u001b[1m \u001b[0m┃\u001b[1m \u001b[0m\u001b[1m      Param #\u001b[0m\u001b[1m \u001b[0m┃\n┡━━━━━━━━━━━━━━━━━━━━━━━━━━━━━━━━━╇━━━━━━━━━━━━━━━━━━━━━━━━╇━━━━━━━━━━━━━━━┩\n│ conv2d_10 (\u001b[38;5;33mConv2D\u001b[0m)              │ (\u001b[38;5;45mNone\u001b[0m, \u001b[38;5;34m222\u001b[0m, \u001b[38;5;34m222\u001b[0m, \u001b[38;5;34m32\u001b[0m)   │           \u001b[38;5;34m896\u001b[0m │\n├─────────────────────────────────┼────────────────────────┼───────────────┤\n│ max_pooling2d_9 (\u001b[38;5;33mMaxPooling2D\u001b[0m)  │ (\u001b[38;5;45mNone\u001b[0m, \u001b[38;5;34m111\u001b[0m, \u001b[38;5;34m111\u001b[0m, \u001b[38;5;34m32\u001b[0m)   │             \u001b[38;5;34m0\u001b[0m │\n├─────────────────────────────────┼────────────────────────┼───────────────┤\n│ conv2d_11 (\u001b[38;5;33mConv2D\u001b[0m)              │ (\u001b[38;5;45mNone\u001b[0m, \u001b[38;5;34m109\u001b[0m, \u001b[38;5;34m109\u001b[0m, \u001b[38;5;34m64\u001b[0m)   │        \u001b[38;5;34m18,496\u001b[0m │\n├─────────────────────────────────┼────────────────────────┼───────────────┤\n│ max_pooling2d_10 (\u001b[38;5;33mMaxPooling2D\u001b[0m) │ (\u001b[38;5;45mNone\u001b[0m, \u001b[38;5;34m54\u001b[0m, \u001b[38;5;34m54\u001b[0m, \u001b[38;5;34m64\u001b[0m)     │             \u001b[38;5;34m0\u001b[0m │\n├─────────────────────────────────┼────────────────────────┼───────────────┤\n│ conv2d_12 (\u001b[38;5;33mConv2D\u001b[0m)              │ (\u001b[38;5;45mNone\u001b[0m, \u001b[38;5;34m52\u001b[0m, \u001b[38;5;34m52\u001b[0m, \u001b[38;5;34m128\u001b[0m)    │        \u001b[38;5;34m73,856\u001b[0m │\n├─────────────────────────────────┼────────────────────────┼───────────────┤\n│ max_pooling2d_11 (\u001b[38;5;33mMaxPooling2D\u001b[0m) │ (\u001b[38;5;45mNone\u001b[0m, \u001b[38;5;34m26\u001b[0m, \u001b[38;5;34m26\u001b[0m, \u001b[38;5;34m128\u001b[0m)    │             \u001b[38;5;34m0\u001b[0m │\n├─────────────────────────────────┼────────────────────────┼───────────────┤\n│ flatten_3 (\u001b[38;5;33mFlatten\u001b[0m)             │ (\u001b[38;5;45mNone\u001b[0m, \u001b[38;5;34m86528\u001b[0m)          │             \u001b[38;5;34m0\u001b[0m │\n├─────────────────────────────────┼────────────────────────┼───────────────┤\n│ dense_9 (\u001b[38;5;33mDense\u001b[0m)                 │ (\u001b[38;5;45mNone\u001b[0m, \u001b[38;5;34m128\u001b[0m)            │    \u001b[38;5;34m11,075,712\u001b[0m │\n├─────────────────────────────────┼────────────────────────┼───────────────┤\n│ dense_10 (\u001b[38;5;33mDense\u001b[0m)                │ (\u001b[38;5;45mNone\u001b[0m, \u001b[38;5;34m64\u001b[0m)             │         \u001b[38;5;34m8,256\u001b[0m │\n├─────────────────────────────────┼────────────────────────┼───────────────┤\n│ dense_11 (\u001b[38;5;33mDense\u001b[0m)                │ (\u001b[38;5;45mNone\u001b[0m, \u001b[38;5;34m16\u001b[0m)             │         \u001b[38;5;34m1,040\u001b[0m │\n└─────────────────────────────────┴────────────────────────┴───────────────┘\n",
            "text/html": "<pre style=\"white-space:pre;overflow-x:auto;line-height:normal;font-family:Menlo,'DejaVu Sans Mono',consolas,'Courier New',monospace\">┏━━━━━━━━━━━━━━━━━━━━━━━━━━━━━━━━━┳━━━━━━━━━━━━━━━━━━━━━━━━┳━━━━━━━━━━━━━━━┓\n┃<span style=\"font-weight: bold\"> Layer (type)                    </span>┃<span style=\"font-weight: bold\"> Output Shape           </span>┃<span style=\"font-weight: bold\">       Param # </span>┃\n┡━━━━━━━━━━━━━━━━━━━━━━━━━━━━━━━━━╇━━━━━━━━━━━━━━━━━━━━━━━━╇━━━━━━━━━━━━━━━┩\n│ conv2d_10 (<span style=\"color: #0087ff; text-decoration-color: #0087ff\">Conv2D</span>)              │ (<span style=\"color: #00d7ff; text-decoration-color: #00d7ff\">None</span>, <span style=\"color: #00af00; text-decoration-color: #00af00\">222</span>, <span style=\"color: #00af00; text-decoration-color: #00af00\">222</span>, <span style=\"color: #00af00; text-decoration-color: #00af00\">32</span>)   │           <span style=\"color: #00af00; text-decoration-color: #00af00\">896</span> │\n├─────────────────────────────────┼────────────────────────┼───────────────┤\n│ max_pooling2d_9 (<span style=\"color: #0087ff; text-decoration-color: #0087ff\">MaxPooling2D</span>)  │ (<span style=\"color: #00d7ff; text-decoration-color: #00d7ff\">None</span>, <span style=\"color: #00af00; text-decoration-color: #00af00\">111</span>, <span style=\"color: #00af00; text-decoration-color: #00af00\">111</span>, <span style=\"color: #00af00; text-decoration-color: #00af00\">32</span>)   │             <span style=\"color: #00af00; text-decoration-color: #00af00\">0</span> │\n├─────────────────────────────────┼────────────────────────┼───────────────┤\n│ conv2d_11 (<span style=\"color: #0087ff; text-decoration-color: #0087ff\">Conv2D</span>)              │ (<span style=\"color: #00d7ff; text-decoration-color: #00d7ff\">None</span>, <span style=\"color: #00af00; text-decoration-color: #00af00\">109</span>, <span style=\"color: #00af00; text-decoration-color: #00af00\">109</span>, <span style=\"color: #00af00; text-decoration-color: #00af00\">64</span>)   │        <span style=\"color: #00af00; text-decoration-color: #00af00\">18,496</span> │\n├─────────────────────────────────┼────────────────────────┼───────────────┤\n│ max_pooling2d_10 (<span style=\"color: #0087ff; text-decoration-color: #0087ff\">MaxPooling2D</span>) │ (<span style=\"color: #00d7ff; text-decoration-color: #00d7ff\">None</span>, <span style=\"color: #00af00; text-decoration-color: #00af00\">54</span>, <span style=\"color: #00af00; text-decoration-color: #00af00\">54</span>, <span style=\"color: #00af00; text-decoration-color: #00af00\">64</span>)     │             <span style=\"color: #00af00; text-decoration-color: #00af00\">0</span> │\n├─────────────────────────────────┼────────────────────────┼───────────────┤\n│ conv2d_12 (<span style=\"color: #0087ff; text-decoration-color: #0087ff\">Conv2D</span>)              │ (<span style=\"color: #00d7ff; text-decoration-color: #00d7ff\">None</span>, <span style=\"color: #00af00; text-decoration-color: #00af00\">52</span>, <span style=\"color: #00af00; text-decoration-color: #00af00\">52</span>, <span style=\"color: #00af00; text-decoration-color: #00af00\">128</span>)    │        <span style=\"color: #00af00; text-decoration-color: #00af00\">73,856</span> │\n├─────────────────────────────────┼────────────────────────┼───────────────┤\n│ max_pooling2d_11 (<span style=\"color: #0087ff; text-decoration-color: #0087ff\">MaxPooling2D</span>) │ (<span style=\"color: #00d7ff; text-decoration-color: #00d7ff\">None</span>, <span style=\"color: #00af00; text-decoration-color: #00af00\">26</span>, <span style=\"color: #00af00; text-decoration-color: #00af00\">26</span>, <span style=\"color: #00af00; text-decoration-color: #00af00\">128</span>)    │             <span style=\"color: #00af00; text-decoration-color: #00af00\">0</span> │\n├─────────────────────────────────┼────────────────────────┼───────────────┤\n│ flatten_3 (<span style=\"color: #0087ff; text-decoration-color: #0087ff\">Flatten</span>)             │ (<span style=\"color: #00d7ff; text-decoration-color: #00d7ff\">None</span>, <span style=\"color: #00af00; text-decoration-color: #00af00\">86528</span>)          │             <span style=\"color: #00af00; text-decoration-color: #00af00\">0</span> │\n├─────────────────────────────────┼────────────────────────┼───────────────┤\n│ dense_9 (<span style=\"color: #0087ff; text-decoration-color: #0087ff\">Dense</span>)                 │ (<span style=\"color: #00d7ff; text-decoration-color: #00d7ff\">None</span>, <span style=\"color: #00af00; text-decoration-color: #00af00\">128</span>)            │    <span style=\"color: #00af00; text-decoration-color: #00af00\">11,075,712</span> │\n├─────────────────────────────────┼────────────────────────┼───────────────┤\n│ dense_10 (<span style=\"color: #0087ff; text-decoration-color: #0087ff\">Dense</span>)                │ (<span style=\"color: #00d7ff; text-decoration-color: #00d7ff\">None</span>, <span style=\"color: #00af00; text-decoration-color: #00af00\">64</span>)             │         <span style=\"color: #00af00; text-decoration-color: #00af00\">8,256</span> │\n├─────────────────────────────────┼────────────────────────┼───────────────┤\n│ dense_11 (<span style=\"color: #0087ff; text-decoration-color: #0087ff\">Dense</span>)                │ (<span style=\"color: #00d7ff; text-decoration-color: #00d7ff\">None</span>, <span style=\"color: #00af00; text-decoration-color: #00af00\">16</span>)             │         <span style=\"color: #00af00; text-decoration-color: #00af00\">1,040</span> │\n└─────────────────────────────────┴────────────────────────┴───────────────┘\n</pre>\n"
          },
          "metadata": {}
        },
        {
          "output_type": "display_data",
          "data": {
            "text/plain": "\u001b[1m Total params: \u001b[0m\u001b[38;5;34m11,178,256\u001b[0m (42.64 MB)\n",
            "text/html": "<pre style=\"white-space:pre;overflow-x:auto;line-height:normal;font-family:Menlo,'DejaVu Sans Mono',consolas,'Courier New',monospace\"><span style=\"font-weight: bold\"> Total params: </span><span style=\"color: #00af00; text-decoration-color: #00af00\">11,178,256</span> (42.64 MB)\n</pre>\n"
          },
          "metadata": {}
        },
        {
          "output_type": "display_data",
          "data": {
            "text/plain": "\u001b[1m Trainable params: \u001b[0m\u001b[38;5;34m11,178,256\u001b[0m (42.64 MB)\n",
            "text/html": "<pre style=\"white-space:pre;overflow-x:auto;line-height:normal;font-family:Menlo,'DejaVu Sans Mono',consolas,'Courier New',monospace\"><span style=\"font-weight: bold\"> Trainable params: </span><span style=\"color: #00af00; text-decoration-color: #00af00\">11,178,256</span> (42.64 MB)\n</pre>\n"
          },
          "metadata": {}
        },
        {
          "output_type": "display_data",
          "data": {
            "text/plain": "\u001b[1m Non-trainable params: \u001b[0m\u001b[38;5;34m0\u001b[0m (0.00 B)\n",
            "text/html": "<pre style=\"white-space:pre;overflow-x:auto;line-height:normal;font-family:Menlo,'DejaVu Sans Mono',consolas,'Courier New',monospace\"><span style=\"font-weight: bold\"> Non-trainable params: </span><span style=\"color: #00af00; text-decoration-color: #00af00\">0</span> (0.00 B)\n</pre>\n"
          },
          "metadata": {}
        }
      ]
    },
    {
      "cell_type": "code",
      "source": [
        "from tensorflow.keras.callbacks import ModelCheckpoint, ReduceLROnPlateau,EarlyStopping, TensorBoard\n",
        "import os\n",
        "import datetime\n"
      ],
      "metadata": {
        "execution": {
          "iopub.status.busy": "2024-08-25T13:35:07.194686Z",
          "iopub.execute_input": "2024-08-25T13:35:07.195652Z",
          "iopub.status.idle": "2024-08-25T13:35:07.199977Z",
          "shell.execute_reply.started": "2024-08-25T13:35:07.195610Z",
          "shell.execute_reply": "2024-08-25T13:35:07.198992Z"
        },
        "trusted": true,
        "id": "pzK6pHjwcIg_"
      },
      "execution_count": null,
      "outputs": []
    },
    {
      "cell_type": "code",
      "source": [
        "checkpoint_path = \"kaggle/working/model_checkpoints/weights.{epoch:02d}-{val_loss:2f}.keras\"\n",
        "log_dir = \"/kaggle/working/logs/fit/\" + datetime.datetime.now().strftime(\"%Y%m%d-%H%M%S\")\n",
        "\n",
        "\n",
        "# Epoch 1 - Weights.keras\n",
        "# epoch 2 - Weights.keras\n",
        "\n",
        "# Naming format - \"weights.{epoch:02d}-{val_loss:2f}.keras\"\n",
        "\n",
        "model_checkpoint = ModelCheckpoint(filepath=checkpoint_path,\n",
        "                                   save_best_only=True,\n",
        "                                   monitor='val_loss',\n",
        "                                   mode='min',\n",
        "                                   verbose=1)\n",
        "reduce_lr = ReduceLROnPlateau(monitor='val_loss', factor=0.2, patience=3, min_lr=0.0001)\n",
        "early_stop = EarlyStopping(monitor='val_loss', patience=5, restore_best_weights=True)\n",
        "board = TensorBoard(log_dir=log_dir, histogram_freq=1)\n",
        "\n",
        "callbacks = [model_checkpoint, reduce_lr, early_stop, board]\n",
        "\n",
        "\n",
        "# e1 - 0.7 ( check point )\n",
        "# e2 - 0.71\n",
        "# e3 - 0.72\n",
        "# e4 - 0.75\n",
        "# e5 - 0.8\n",
        "# stop the training- restore my check point.\n",
        "\n",
        "# reduce my lr\n",
        "# e4 - 0.65\n",
        "# when ever there is improvement, i want the model to be saved."
      ],
      "metadata": {
        "execution": {
          "iopub.status.busy": "2024-08-25T13:53:37.399874Z",
          "iopub.execute_input": "2024-08-25T13:53:37.400901Z",
          "iopub.status.idle": "2024-08-25T13:53:37.409167Z",
          "shell.execute_reply.started": "2024-08-25T13:53:37.400843Z",
          "shell.execute_reply": "2024-08-25T13:53:37.408139Z"
        },
        "trusted": true,
        "id": "nl1U8CdIcIg_"
      },
      "execution_count": null,
      "outputs": []
    },
    {
      "cell_type": "code",
      "source": [
        "model.summary()"
      ],
      "metadata": {
        "execution": {
          "iopub.status.busy": "2024-08-25T13:53:39.020095Z",
          "iopub.execute_input": "2024-08-25T13:53:39.020536Z",
          "iopub.status.idle": "2024-08-25T13:53:39.045747Z",
          "shell.execute_reply.started": "2024-08-25T13:53:39.020494Z",
          "shell.execute_reply": "2024-08-25T13:53:39.044837Z"
        },
        "trusted": true,
        "id": "4v0iVaj0cIg_",
        "outputId": "b2072cd9-fb91-4b69-897b-bcdcddde13cd"
      },
      "execution_count": null,
      "outputs": [
        {
          "output_type": "display_data",
          "data": {
            "text/plain": "\u001b[1mModel: \"sequential_3\"\u001b[0m\n",
            "text/html": "<pre style=\"white-space:pre;overflow-x:auto;line-height:normal;font-family:Menlo,'DejaVu Sans Mono',consolas,'Courier New',monospace\"><span style=\"font-weight: bold\">Model: \"sequential_3\"</span>\n</pre>\n"
          },
          "metadata": {}
        },
        {
          "output_type": "display_data",
          "data": {
            "text/plain": "┏━━━━━━━━━━━━━━━━━━━━━━━━━━━━━━━━━┳━━━━━━━━━━━━━━━━━━━━━━━━┳━━━━━━━━━━━━━━━┓\n┃\u001b[1m \u001b[0m\u001b[1mLayer (type)                   \u001b[0m\u001b[1m \u001b[0m┃\u001b[1m \u001b[0m\u001b[1mOutput Shape          \u001b[0m\u001b[1m \u001b[0m┃\u001b[1m \u001b[0m\u001b[1m      Param #\u001b[0m\u001b[1m \u001b[0m┃\n┡━━━━━━━━━━━━━━━━━━━━━━━━━━━━━━━━━╇━━━━━━━━━━━━━━━━━━━━━━━━╇━━━━━━━━━━━━━━━┩\n│ conv2d_10 (\u001b[38;5;33mConv2D\u001b[0m)              │ (\u001b[38;5;45mNone\u001b[0m, \u001b[38;5;34m222\u001b[0m, \u001b[38;5;34m222\u001b[0m, \u001b[38;5;34m32\u001b[0m)   │           \u001b[38;5;34m896\u001b[0m │\n├─────────────────────────────────┼────────────────────────┼───────────────┤\n│ max_pooling2d_9 (\u001b[38;5;33mMaxPooling2D\u001b[0m)  │ (\u001b[38;5;45mNone\u001b[0m, \u001b[38;5;34m111\u001b[0m, \u001b[38;5;34m111\u001b[0m, \u001b[38;5;34m32\u001b[0m)   │             \u001b[38;5;34m0\u001b[0m │\n├─────────────────────────────────┼────────────────────────┼───────────────┤\n│ conv2d_11 (\u001b[38;5;33mConv2D\u001b[0m)              │ (\u001b[38;5;45mNone\u001b[0m, \u001b[38;5;34m109\u001b[0m, \u001b[38;5;34m109\u001b[0m, \u001b[38;5;34m64\u001b[0m)   │        \u001b[38;5;34m18,496\u001b[0m │\n├─────────────────────────────────┼────────────────────────┼───────────────┤\n│ max_pooling2d_10 (\u001b[38;5;33mMaxPooling2D\u001b[0m) │ (\u001b[38;5;45mNone\u001b[0m, \u001b[38;5;34m54\u001b[0m, \u001b[38;5;34m54\u001b[0m, \u001b[38;5;34m64\u001b[0m)     │             \u001b[38;5;34m0\u001b[0m │\n├─────────────────────────────────┼────────────────────────┼───────────────┤\n│ conv2d_12 (\u001b[38;5;33mConv2D\u001b[0m)              │ (\u001b[38;5;45mNone\u001b[0m, \u001b[38;5;34m52\u001b[0m, \u001b[38;5;34m52\u001b[0m, \u001b[38;5;34m128\u001b[0m)    │        \u001b[38;5;34m73,856\u001b[0m │\n├─────────────────────────────────┼────────────────────────┼───────────────┤\n│ max_pooling2d_11 (\u001b[38;5;33mMaxPooling2D\u001b[0m) │ (\u001b[38;5;45mNone\u001b[0m, \u001b[38;5;34m26\u001b[0m, \u001b[38;5;34m26\u001b[0m, \u001b[38;5;34m128\u001b[0m)    │             \u001b[38;5;34m0\u001b[0m │\n├─────────────────────────────────┼────────────────────────┼───────────────┤\n│ flatten_3 (\u001b[38;5;33mFlatten\u001b[0m)             │ (\u001b[38;5;45mNone\u001b[0m, \u001b[38;5;34m86528\u001b[0m)          │             \u001b[38;5;34m0\u001b[0m │\n├─────────────────────────────────┼────────────────────────┼───────────────┤\n│ dense_9 (\u001b[38;5;33mDense\u001b[0m)                 │ (\u001b[38;5;45mNone\u001b[0m, \u001b[38;5;34m128\u001b[0m)            │    \u001b[38;5;34m11,075,712\u001b[0m │\n├─────────────────────────────────┼────────────────────────┼───────────────┤\n│ dense_10 (\u001b[38;5;33mDense\u001b[0m)                │ (\u001b[38;5;45mNone\u001b[0m, \u001b[38;5;34m64\u001b[0m)             │         \u001b[38;5;34m8,256\u001b[0m │\n├─────────────────────────────────┼────────────────────────┼───────────────┤\n│ dense_11 (\u001b[38;5;33mDense\u001b[0m)                │ (\u001b[38;5;45mNone\u001b[0m, \u001b[38;5;34m16\u001b[0m)             │         \u001b[38;5;34m1,040\u001b[0m │\n└─────────────────────────────────┴────────────────────────┴───────────────┘\n",
            "text/html": "<pre style=\"white-space:pre;overflow-x:auto;line-height:normal;font-family:Menlo,'DejaVu Sans Mono',consolas,'Courier New',monospace\">┏━━━━━━━━━━━━━━━━━━━━━━━━━━━━━━━━━┳━━━━━━━━━━━━━━━━━━━━━━━━┳━━━━━━━━━━━━━━━┓\n┃<span style=\"font-weight: bold\"> Layer (type)                    </span>┃<span style=\"font-weight: bold\"> Output Shape           </span>┃<span style=\"font-weight: bold\">       Param # </span>┃\n┡━━━━━━━━━━━━━━━━━━━━━━━━━━━━━━━━━╇━━━━━━━━━━━━━━━━━━━━━━━━╇━━━━━━━━━━━━━━━┩\n│ conv2d_10 (<span style=\"color: #0087ff; text-decoration-color: #0087ff\">Conv2D</span>)              │ (<span style=\"color: #00d7ff; text-decoration-color: #00d7ff\">None</span>, <span style=\"color: #00af00; text-decoration-color: #00af00\">222</span>, <span style=\"color: #00af00; text-decoration-color: #00af00\">222</span>, <span style=\"color: #00af00; text-decoration-color: #00af00\">32</span>)   │           <span style=\"color: #00af00; text-decoration-color: #00af00\">896</span> │\n├─────────────────────────────────┼────────────────────────┼───────────────┤\n│ max_pooling2d_9 (<span style=\"color: #0087ff; text-decoration-color: #0087ff\">MaxPooling2D</span>)  │ (<span style=\"color: #00d7ff; text-decoration-color: #00d7ff\">None</span>, <span style=\"color: #00af00; text-decoration-color: #00af00\">111</span>, <span style=\"color: #00af00; text-decoration-color: #00af00\">111</span>, <span style=\"color: #00af00; text-decoration-color: #00af00\">32</span>)   │             <span style=\"color: #00af00; text-decoration-color: #00af00\">0</span> │\n├─────────────────────────────────┼────────────────────────┼───────────────┤\n│ conv2d_11 (<span style=\"color: #0087ff; text-decoration-color: #0087ff\">Conv2D</span>)              │ (<span style=\"color: #00d7ff; text-decoration-color: #00d7ff\">None</span>, <span style=\"color: #00af00; text-decoration-color: #00af00\">109</span>, <span style=\"color: #00af00; text-decoration-color: #00af00\">109</span>, <span style=\"color: #00af00; text-decoration-color: #00af00\">64</span>)   │        <span style=\"color: #00af00; text-decoration-color: #00af00\">18,496</span> │\n├─────────────────────────────────┼────────────────────────┼───────────────┤\n│ max_pooling2d_10 (<span style=\"color: #0087ff; text-decoration-color: #0087ff\">MaxPooling2D</span>) │ (<span style=\"color: #00d7ff; text-decoration-color: #00d7ff\">None</span>, <span style=\"color: #00af00; text-decoration-color: #00af00\">54</span>, <span style=\"color: #00af00; text-decoration-color: #00af00\">54</span>, <span style=\"color: #00af00; text-decoration-color: #00af00\">64</span>)     │             <span style=\"color: #00af00; text-decoration-color: #00af00\">0</span> │\n├─────────────────────────────────┼────────────────────────┼───────────────┤\n│ conv2d_12 (<span style=\"color: #0087ff; text-decoration-color: #0087ff\">Conv2D</span>)              │ (<span style=\"color: #00d7ff; text-decoration-color: #00d7ff\">None</span>, <span style=\"color: #00af00; text-decoration-color: #00af00\">52</span>, <span style=\"color: #00af00; text-decoration-color: #00af00\">52</span>, <span style=\"color: #00af00; text-decoration-color: #00af00\">128</span>)    │        <span style=\"color: #00af00; text-decoration-color: #00af00\">73,856</span> │\n├─────────────────────────────────┼────────────────────────┼───────────────┤\n│ max_pooling2d_11 (<span style=\"color: #0087ff; text-decoration-color: #0087ff\">MaxPooling2D</span>) │ (<span style=\"color: #00d7ff; text-decoration-color: #00d7ff\">None</span>, <span style=\"color: #00af00; text-decoration-color: #00af00\">26</span>, <span style=\"color: #00af00; text-decoration-color: #00af00\">26</span>, <span style=\"color: #00af00; text-decoration-color: #00af00\">128</span>)    │             <span style=\"color: #00af00; text-decoration-color: #00af00\">0</span> │\n├─────────────────────────────────┼────────────────────────┼───────────────┤\n│ flatten_3 (<span style=\"color: #0087ff; text-decoration-color: #0087ff\">Flatten</span>)             │ (<span style=\"color: #00d7ff; text-decoration-color: #00d7ff\">None</span>, <span style=\"color: #00af00; text-decoration-color: #00af00\">86528</span>)          │             <span style=\"color: #00af00; text-decoration-color: #00af00\">0</span> │\n├─────────────────────────────────┼────────────────────────┼───────────────┤\n│ dense_9 (<span style=\"color: #0087ff; text-decoration-color: #0087ff\">Dense</span>)                 │ (<span style=\"color: #00d7ff; text-decoration-color: #00d7ff\">None</span>, <span style=\"color: #00af00; text-decoration-color: #00af00\">128</span>)            │    <span style=\"color: #00af00; text-decoration-color: #00af00\">11,075,712</span> │\n├─────────────────────────────────┼────────────────────────┼───────────────┤\n│ dense_10 (<span style=\"color: #0087ff; text-decoration-color: #0087ff\">Dense</span>)                │ (<span style=\"color: #00d7ff; text-decoration-color: #00d7ff\">None</span>, <span style=\"color: #00af00; text-decoration-color: #00af00\">64</span>)             │         <span style=\"color: #00af00; text-decoration-color: #00af00\">8,256</span> │\n├─────────────────────────────────┼────────────────────────┼───────────────┤\n│ dense_11 (<span style=\"color: #0087ff; text-decoration-color: #0087ff\">Dense</span>)                │ (<span style=\"color: #00d7ff; text-decoration-color: #00d7ff\">None</span>, <span style=\"color: #00af00; text-decoration-color: #00af00\">16</span>)             │         <span style=\"color: #00af00; text-decoration-color: #00af00\">1,040</span> │\n└─────────────────────────────────┴────────────────────────┴───────────────┘\n</pre>\n"
          },
          "metadata": {}
        },
        {
          "output_type": "display_data",
          "data": {
            "text/plain": "\u001b[1m Total params: \u001b[0m\u001b[38;5;34m11,178,256\u001b[0m (42.64 MB)\n",
            "text/html": "<pre style=\"white-space:pre;overflow-x:auto;line-height:normal;font-family:Menlo,'DejaVu Sans Mono',consolas,'Courier New',monospace\"><span style=\"font-weight: bold\"> Total params: </span><span style=\"color: #00af00; text-decoration-color: #00af00\">11,178,256</span> (42.64 MB)\n</pre>\n"
          },
          "metadata": {}
        },
        {
          "output_type": "display_data",
          "data": {
            "text/plain": "\u001b[1m Trainable params: \u001b[0m\u001b[38;5;34m11,178,256\u001b[0m (42.64 MB)\n",
            "text/html": "<pre style=\"white-space:pre;overflow-x:auto;line-height:normal;font-family:Menlo,'DejaVu Sans Mono',consolas,'Courier New',monospace\"><span style=\"font-weight: bold\"> Trainable params: </span><span style=\"color: #00af00; text-decoration-color: #00af00\">11,178,256</span> (42.64 MB)\n</pre>\n"
          },
          "metadata": {}
        },
        {
          "output_type": "display_data",
          "data": {
            "text/plain": "\u001b[1m Non-trainable params: \u001b[0m\u001b[38;5;34m0\u001b[0m (0.00 B)\n",
            "text/html": "<pre style=\"white-space:pre;overflow-x:auto;line-height:normal;font-family:Menlo,'DejaVu Sans Mono',consolas,'Courier New',monospace\"><span style=\"font-weight: bold\"> Non-trainable params: </span><span style=\"color: #00af00; text-decoration-color: #00af00\">0</span> (0.00 B)\n</pre>\n"
          },
          "metadata": {}
        }
      ]
    },
    {
      "cell_type": "code",
      "source": [
        "model.compile(optimizer = 'adam',\n",
        "             loss= 'sparse_categorical_crossentropy',\n",
        "             metrics = ['accuracy'])"
      ],
      "metadata": {
        "execution": {
          "iopub.status.busy": "2024-08-25T13:53:41.172464Z",
          "iopub.execute_input": "2024-08-25T13:53:41.172893Z",
          "iopub.status.idle": "2024-08-25T13:53:41.182678Z",
          "shell.execute_reply.started": "2024-08-25T13:53:41.172854Z",
          "shell.execute_reply": "2024-08-25T13:53:41.181747Z"
        },
        "trusted": true,
        "id": "o67tY5fhcIg_"
      },
      "execution_count": null,
      "outputs": []
    },
    {
      "cell_type": "code",
      "source": [
        "# 100 images\n",
        "# augmented and passed"
      ],
      "metadata": {
        "id": "HAmMQlw3cIg_"
      },
      "execution_count": null,
      "outputs": []
    },
    {
      "cell_type": "code",
      "source": [
        "history = model.fit(\n",
        "                    train_generator,\n",
        "                    validation_data=valid_generator,\n",
        "                    epochs=50,\n",
        "                    callbacks=callbacks\n",
        "                    )"
      ],
      "metadata": {
        "execution": {
          "iopub.status.busy": "2024-08-25T13:53:45.214725Z",
          "iopub.execute_input": "2024-08-25T13:53:45.215126Z"
        },
        "trusted": true,
        "id": "QStzQNYJcIhA",
        "outputId": "de1ab25d-4351-4b5f-e092-86d25235a40d"
      },
      "execution_count": null,
      "outputs": [
        {
          "name": "stdout",
          "text": "Epoch 1/50\n",
          "output_type": "stream"
        },
        {
          "name": "stderr",
          "text": "/opt/conda/lib/python3.10/site-packages/keras/src/trainers/data_adapters/py_dataset_adapter.py:121: UserWarning: Your `PyDataset` class should call `super().__init__(**kwargs)` in its constructor. `**kwargs` can include `workers`, `use_multiprocessing`, `max_queue_size`. Do not pass these arguments to `fit()`, as they will be ignored.\n  self._warn_if_super_not_called()\nWARNING: All log messages before absl::InitializeLog() is called are written to STDERR\nI0000 00:00:1724594050.928716    1111 service.cc:145] XLA service 0x7dd3c4007d60 initialized for platform CUDA (this does not guarantee that XLA will be used). Devices:\nI0000 00:00:1724594050.928774    1111 service.cc:153]   StreamExecutor device (0): Tesla T4, Compute Capability 7.5\nI0000 00:00:1724594050.928789    1111 service.cc:153]   StreamExecutor device (1): Tesla T4, Compute Capability 7.5\nI0000 00:00:1724594063.086964    1111 device_compiler.h:188] Compiled cluster using XLA!  This line is logged at most once for the lifetime of the process.\n",
          "output_type": "stream"
        },
        {
          "name": "stdout",
          "text": "\u001b[1m384/384\u001b[0m \u001b[32m━━━━━━━━━━━━━━━━━━━━\u001b[0m\u001b[37m\u001b[0m \u001b[1m0s\u001b[0m 2s/step - accuracy: 0.2211 - loss: 2.4411",
          "output_type": "stream"
        },
        {
          "name": "stderr",
          "text": "/opt/conda/lib/python3.10/site-packages/keras/src/trainers/data_adapters/py_dataset_adapter.py:121: UserWarning: Your `PyDataset` class should call `super().__init__(**kwargs)` in its constructor. `**kwargs` can include `workers`, `use_multiprocessing`, `max_queue_size`. Do not pass these arguments to `fit()`, as they will be ignored.\n  self._warn_if_super_not_called()\n",
          "output_type": "stream"
        },
        {
          "name": "stdout",
          "text": "\nEpoch 1: val_loss improved from inf to 1.77117, saving model to kaggle/working/model_checkpoints/weights.01-1.771168.keras\n\u001b[1m384/384\u001b[0m \u001b[32m━━━━━━━━━━━━━━━━━━━━\u001b[0m\u001b[37m\u001b[0m \u001b[1m1224s\u001b[0m 3s/step - accuracy: 0.2213 - loss: 2.4403 - val_accuracy: 0.4468 - val_loss: 1.7712 - learning_rate: 0.0010\nEpoch 2/50\n\u001b[1m274/384\u001b[0m \u001b[32m━━━━━━━━━━━━━━\u001b[0m\u001b[37m━━━━━━\u001b[0m \u001b[1m3:30\u001b[0m 2s/step - accuracy: 0.4563 - loss: 1.7330",
          "output_type": "stream"
        }
      ]
    },
    {
      "cell_type": "markdown",
      "source": [
        "India pe - airtel Telekom business.\n",
        "140 crore prople.\n",
        "airtels - Broadband routers.\n",
        "airtel - 2 million customer ( broadband )\n",
        "\n",
        "every 2 min, you data point ( each recrod is a row )\n",
        "1 device - 24 hours - 30 records per hour. (24*30 = 720 rows per device per day.\n",
        "5 years data.\n",
        "\n",
        "5 * 2000000 * 720 ="
      ],
      "metadata": {
        "id": "tp4gWxwDcIhA"
      }
    },
    {
      "cell_type": "code",
      "source": [
        "tf.keras.model.load()\n",
        "\n",
        "save and load"
      ],
      "metadata": {
        "id": "w-Hi8Xr5cIhA"
      },
      "execution_count": null,
      "outputs": []
    },
    {
      "cell_type": "code",
      "source": [
        "# Model.save -\n",
        "save the architeture\n",
        "save the weights\n",
        "save any other paramaters\n",
        "\n",
        "\n",
        "# model.save-wrights\n",
        "only saving the weight paramater ( kernels ) - Keep the size low for the model.\n",
        "\n",
        "\n",
        "# dummy architecutre"
      ],
      "metadata": {
        "trusted": true,
        "id": "3gxaKpqPcIhA"
      },
      "execution_count": null,
      "outputs": []
    },
    {
      "cell_type": "code",
      "source": [],
      "metadata": {
        "id": "8r-R6OFVcIhA"
      },
      "execution_count": null,
      "outputs": []
    },
    {
      "cell_type": "code",
      "source": [],
      "metadata": {
        "id": "qXAAoHJLcIhB"
      },
      "execution_count": null,
      "outputs": []
    },
    {
      "cell_type": "code",
      "source": [],
      "metadata": {
        "id": "WKZTCqCgcIhB"
      },
      "execution_count": null,
      "outputs": []
    },
    {
      "cell_type": "code",
      "source": [],
      "metadata": {
        "id": "8lwh1aPzcIhB"
      },
      "execution_count": null,
      "outputs": []
    }
  ]
}